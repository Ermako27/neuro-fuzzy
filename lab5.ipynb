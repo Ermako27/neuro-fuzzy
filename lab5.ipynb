{
 "cells": [
  {
   "cell_type": "code",
   "execution_count": 1,
   "source": [
    "#Нейро-нечеткие системы\n",
    "#Лабораторная работа №5\n",
    "\n",
    "#Задача: классификация текстов"
   ],
   "outputs": [],
   "metadata": {}
  },
  {
   "cell_type": "code",
   "execution_count": 2,
   "source": [
    "#мешок слов\n",
    "\n",
    "%matplotlib inline\n",
    "import os\n",
    "import umap\n",
    "import seaborn as sns\n",
    "\n",
    "\n",
    "from ipywidgets import Select, SelectMultiple, interactive,  Layout, Box, Label\n",
    "\n",
    "from sklearn import feature_extraction, model_selection, naive_bayes, pipeline, manifold, preprocessing, feature_selection\n",
    "import sklearn.metrics as metrics\n",
    "import matplotlib.patches as mpatches\n",
    "\n",
    "\n",
    "import pandas as pd\n",
    "import numpy as np\n",
    "## for plotting\n",
    "import matplotlib.pyplot as plt\n",
    "#import seaborn as sns\n",
    "## for processing\n",
    "import re\n",
    "from sklearn.model_selection import train_test_split\n",
    "from sklearn.feature_extraction.text import CountVectorizer\n",
    "import sklearn.feature_selection \n",
    "import nltk\n",
    "import gensim\n",
    "#перед использованием раскомментировать\n",
    "nltk.download(\"stopwords\")\n",
    "nltk.download('wordnet')"
   ],
   "outputs": [
    {
     "output_type": "stream",
     "name": "stderr",
     "text": [
      "[nltk_data] Downloading package stopwords to\n",
      "[nltk_data]     /Users/msermakov/nltk_data...\n",
      "[nltk_data]   Package stopwords is already up-to-date!\n",
      "[nltk_data] Downloading package wordnet to\n",
      "[nltk_data]     /Users/msermakov/nltk_data...\n",
      "[nltk_data]   Package wordnet is already up-to-date!\n"
     ]
    },
    {
     "output_type": "execute_result",
     "data": {
      "text/plain": [
       "True"
      ]
     },
     "metadata": {},
     "execution_count": 2
    }
   ],
   "metadata": {}
  },
  {
   "cell_type": "code",
   "execution_count": 3,
   "source": [
    "import tensorflow as tf\n",
    "from tensorflow import keras\n",
    "from tensorflow.keras import layers,Sequential, Model, preprocessing as kprocessing\n",
    "from keras.layers import Dense, Input, Activation, Dropout\n",
    "from sklearn.model_selection import train_test_split\n",
    "from tensorflow.keras.preprocessing.text import Tokenizer\n",
    "from tensorflow.keras.preprocessing.sequence import pad_sequences\n",
    "from tensorflow.keras.callbacks import EarlyStopping,ModelCheckpoint\n",
    "from tensorflow.keras import models"
   ],
   "outputs": [],
   "metadata": {}
  },
  {
   "cell_type": "code",
   "execution_count": 4,
   "source": [
    "biology = pd.read_excel(\"./data/articles/Biology.xlsx\").dropna().head(100)\n",
    "biology[\"class\"] = \"biology\"\n",
    "arts = pd.read_excel(\"./data/articles/Arts.xlsx\").dropna().head(100)\n",
    "arts[\"class\"] = \"arts\"\n",
    "chemistry = pd.read_excel(\"./data/articles/Chemistry.xlsx\").dropna().head(100)\n",
    "chemistry[\"class\"] = \"chemistry\"\n",
    "evolution = pd.read_excel(\"./data/articles/Evolution.xlsx\").dropna().head(100)\n",
    "evolution[\"class\"] = \"evolution\"\n",
    "math = pd.read_excel(\"./data/articles/Math.xlsx\").dropna().head(100)\n",
    "math[\"class\"] = \"math\"\n",
    "physics = pd.read_excel(\"./data/articles/Physics.xlsx\").dropna().head(100)\n",
    "physics[\"class\"] = \"physics\"\n",
    "policy_ethics = pd.read_excel(\"./data/articles/PolicyEthics.xlsx\").dropna().head(100)\n",
    "policy_ethics[\"class\"] = \"policy_ethics\"\n",
    "articles = pd.concat([biology, arts, chemistry, evolution, math, physics, policy_ethics])"
   ],
   "outputs": [],
   "metadata": {}
  },
  {
   "cell_type": "code",
   "execution_count": 5,
   "source": [
    "articles.columns = [\"text\", \"title\", \"class\"]\n",
    "articles = articles.dropna()\n",
    "articles.head(10)"
   ],
   "outputs": [
    {
     "output_type": "execute_result",
     "data": {
      "text/html": [
       "<div>\n",
       "<style scoped>\n",
       "    .dataframe tbody tr th:only-of-type {\n",
       "        vertical-align: middle;\n",
       "    }\n",
       "\n",
       "    .dataframe tbody tr th {\n",
       "        vertical-align: top;\n",
       "    }\n",
       "\n",
       "    .dataframe thead th {\n",
       "        text-align: right;\n",
       "    }\n",
       "</style>\n",
       "<table border=\"1\" class=\"dataframe\">\n",
       "  <thead>\n",
       "    <tr style=\"text-align: right;\">\n",
       "      <th></th>\n",
       "      <th>text</th>\n",
       "      <th>title</th>\n",
       "      <th>class</th>\n",
       "    </tr>\n",
       "  </thead>\n",
       "  <tbody>\n",
       "    <tr>\n",
       "      <th>0</th>\n",
       "      <td>This spring’s emergence of periodical cicadas ...</td>\n",
       "      <td>Brood X Cicadas Could Cause a Bird Baby Boom</td>\n",
       "      <td>biology</td>\n",
       "    </tr>\n",
       "    <tr>\n",
       "      <th>1</th>\n",
       "      <td>In the 1980s, scientists discovered that oyste...</td>\n",
       "      <td>How a Carnivorous Mushroom Poisons Its Prey</td>\n",
       "      <td>biology</td>\n",
       "    </tr>\n",
       "    <tr>\n",
       "      <th>2</th>\n",
       "      <td>In September 2017, when Hurricane Maria hit Pu...</td>\n",
       "      <td>What Monkeys Can Teach Humans about Resilience...</td>\n",
       "      <td>biology</td>\n",
       "    </tr>\n",
       "    <tr>\n",
       "      <th>3</th>\n",
       "      <td>A few plants in the cabbage and mustard family...</td>\n",
       "      <td>Killer Leaves Emerge from Plant-Butterfly Arms...</td>\n",
       "      <td>biology</td>\n",
       "    </tr>\n",
       "    <tr>\n",
       "      <th>4</th>\n",
       "      <td>The following essay is reprinted with permissi...</td>\n",
       "      <td>Chocolate’s Secret Ingredient Is Fermenting Mi...</td>\n",
       "      <td>biology</td>\n",
       "    </tr>\n",
       "    <tr>\n",
       "      <th>5</th>\n",
       "      <td>Dinosaur and fossil aficionados are intimately...</td>\n",
       "      <td>The Asteroid That Killed the Dinosaurs Created...</td>\n",
       "      <td>biology</td>\n",
       "    </tr>\n",
       "    <tr>\n",
       "      <th>6</th>\n",
       "      <td>The human body replaces its own cells regularl...</td>\n",
       "      <td>Our Bodies Replace Billions of Cells Every Day</td>\n",
       "      <td>biology</td>\n",
       "    </tr>\n",
       "    <tr>\n",
       "      <th>7</th>\n",
       "      <td>Born in England in 1799, Anna Atkins was an am...</td>\n",
       "      <td>Female Botanist Published the First Ever Photo...</td>\n",
       "      <td>biology</td>\n",
       "    </tr>\n",
       "    <tr>\n",
       "      <th>8</th>\n",
       "      <td>Like an expert moviegoer who can instantly rec...</td>\n",
       "      <td>Some Deep-Sea Bacteria Are So Strange, Our Imm...</td>\n",
       "      <td>biology</td>\n",
       "    </tr>\n",
       "    <tr>\n",
       "      <th>9</th>\n",
       "      <td>In 1986, Yiu-Kwok Chan from Agriculture Canada...</td>\n",
       "      <td>Guardians of the Microbial Galaxy</td>\n",
       "      <td>biology</td>\n",
       "    </tr>\n",
       "  </tbody>\n",
       "</table>\n",
       "</div>"
      ],
      "text/plain": [
       "                                                text  \\\n",
       "0  This spring’s emergence of periodical cicadas ...   \n",
       "1  In the 1980s, scientists discovered that oyste...   \n",
       "2  In September 2017, when Hurricane Maria hit Pu...   \n",
       "3  A few plants in the cabbage and mustard family...   \n",
       "4  The following essay is reprinted with permissi...   \n",
       "5  Dinosaur and fossil aficionados are intimately...   \n",
       "6  The human body replaces its own cells regularl...   \n",
       "7  Born in England in 1799, Anna Atkins was an am...   \n",
       "8  Like an expert moviegoer who can instantly rec...   \n",
       "9  In 1986, Yiu-Kwok Chan from Agriculture Canada...   \n",
       "\n",
       "                                               title    class  \n",
       "0       Brood X Cicadas Could Cause a Bird Baby Boom  biology  \n",
       "1        How a Carnivorous Mushroom Poisons Its Prey  biology  \n",
       "2  What Monkeys Can Teach Humans about Resilience...  biology  \n",
       "3  Killer Leaves Emerge from Plant-Butterfly Arms...  biology  \n",
       "4  Chocolate’s Secret Ingredient Is Fermenting Mi...  biology  \n",
       "5  The Asteroid That Killed the Dinosaurs Created...  biology  \n",
       "6     Our Bodies Replace Billions of Cells Every Day  biology  \n",
       "7  Female Botanist Published the First Ever Photo...  biology  \n",
       "8  Some Deep-Sea Bacteria Are So Strange, Our Imm...  biology  \n",
       "9                  Guardians of the Microbial Galaxy  biology  "
      ]
     },
     "metadata": {},
     "execution_count": 5
    }
   ],
   "metadata": {}
  },
  {
   "cell_type": "code",
   "execution_count": 6,
   "source": [
    "counter=CountVectorizer(\n",
    "        token_pattern=r\"[A-Za-zА-Яа-яЁё]+\\-[A-Za-zА-Яа-яЁё]+|[A-Za-zА-Яа-яЁё]+\", \n",
    "        stop_words=\"english\")\n",
    "\n",
    "def get_most_freq_words(text, count=-1):\n",
    "    try:\n",
    "        res=counter.fit_transform([text])\n",
    "        print(res)\n",
    "    except ValueError:\n",
    "        return None\n",
    "    \n",
    "    frq = sorted([(i, res[0,i]) for i in range(res[0].shape[1])], \n",
    "                 key = lambda x: x[1], reverse = True)[:count]\n",
    "    vocab = {w:res[0,i] for w,i in counter.vocabulary_.items()}\n",
    "    return [[w for w, n in counter.vocabulary_.items() if n==i][0] \n",
    "            for i, f in frq]"
   ],
   "outputs": [],
   "metadata": {}
  },
  {
   "cell_type": "code",
   "execution_count": 7,
   "source": [
    "def normalize(text):\n",
    "    words = get_most_freq_words(text)\n",
    "    \n",
    "    if not words:\n",
    "        words = re.findall('[A-Za-zА-Яа-яЁё]+\\-[A-Za-zА-Яа-яЁё]+|[A-Za-zА-Яа-яЁё]+', text)\n",
    "        sw = stopwords.words('english')\n",
    "        lst_text = [word for word in words if word not in sw][:1001]\n",
    "\n",
    "    # Стемминг\n",
    "    ps = nltk.stem.porter.PorterStemmer()\n",
    "    words = [ps.stem(word) for word in words]\n",
    "\n",
    "    # Лемматизация\n",
    "    lem = nltk.stem.wordnet.WordNetLemmatizer()\n",
    "    words = [lem.lemmatize(word) for word in words]\n",
    "\n",
    "    return \" \".join(words)"
   ],
   "outputs": [],
   "metadata": {}
  },
  {
   "cell_type": "code",
   "execution_count": 8,
   "source": [
    "articles[\"cleaned\"] = articles.text.apply(lambda text: normalize(text))\n",
    "articles.head(10)"
   ],
   "outputs": [
    {
     "output_type": "execute_result",
     "data": {
      "text/html": [
       "<div>\n",
       "<style scoped>\n",
       "    .dataframe tbody tr th:only-of-type {\n",
       "        vertical-align: middle;\n",
       "    }\n",
       "\n",
       "    .dataframe tbody tr th {\n",
       "        vertical-align: top;\n",
       "    }\n",
       "\n",
       "    .dataframe thead th {\n",
       "        text-align: right;\n",
       "    }\n",
       "</style>\n",
       "<table border=\"1\" class=\"dataframe\">\n",
       "  <thead>\n",
       "    <tr style=\"text-align: right;\">\n",
       "      <th></th>\n",
       "      <th>text</th>\n",
       "      <th>title</th>\n",
       "      <th>class</th>\n",
       "      <th>cleaned</th>\n",
       "    </tr>\n",
       "  </thead>\n",
       "  <tbody>\n",
       "    <tr>\n",
       "      <th>0</th>\n",
       "      <td>This spring’s emergence of periodical cicadas ...</td>\n",
       "      <td>Brood X Cicadas Could Cause a Bird Baby Boom</td>\n",
       "      <td>biology</td>\n",
       "      <td>cicada cicada speci popul say year year s bird...</td>\n",
       "    </tr>\n",
       "    <tr>\n",
       "      <th>1</th>\n",
       "      <td>In the 1980s, scientists discovered that oyste...</td>\n",
       "      <td>How a Carnivorous Mushroom Poisons Its Prey</td>\n",
       "      <td>biology</td>\n",
       "      <td>s nematod nematod poison worm calcium fungi sc...</td>\n",
       "    </tr>\n",
       "    <tr>\n",
       "      <th>2</th>\n",
       "      <td>In September 2017, when Hurricane Maria hit Pu...</td>\n",
       "      <td>What Monkeys Can Teach Humans about Resilience...</td>\n",
       "      <td>biology</td>\n",
       "      <td>social s say macaqu platt santiago island monk...</td>\n",
       "    </tr>\n",
       "    <tr>\n",
       "      <th>3</th>\n",
       "      <td>A few plants in the cabbage and mustard family...</td>\n",
       "      <td>Killer Leaves Emerge from Plant-Butterfly Arms...</td>\n",
       "      <td>biology</td>\n",
       "      <td>plant egg speci butterfli famili plant say but...</td>\n",
       "    </tr>\n",
       "    <tr>\n",
       "      <th>4</th>\n",
       "      <td>The following essay is reprinted with permissi...</td>\n",
       "      <td>Chocolate’s Secret Ingredient Is Fermenting Mi...</td>\n",
       "      <td>biology</td>\n",
       "      <td>chocol ferment bean cacao s bacteria flavor pr...</td>\n",
       "    </tr>\n",
       "    <tr>\n",
       "      <th>5</th>\n",
       "      <td>Dinosaur and fossil aficionados are intimately...</td>\n",
       "      <td>The Asteroid That Killed the Dinosaurs Created...</td>\n",
       "      <td>biology</td>\n",
       "      <td>s forest meteorit new speci say year amazon fo...</td>\n",
       "    </tr>\n",
       "    <tr>\n",
       "      <th>6</th>\n",
       "      <td>The human body replaces its own cells regularl...</td>\n",
       "      <td>Our Bodies Replace Billions of Cells Every Day</td>\n",
       "      <td>biology</td>\n",
       "      <td>cell bodi day equival human live mass percent ...</td>\n",
       "    </tr>\n",
       "    <tr>\n",
       "      <th>7</th>\n",
       "      <td>Born in England in 1799, Anna Atkins was an am...</td>\n",
       "      <td>Female Botanist Published the First Ever Photo...</td>\n",
       "      <td>biology</td>\n",
       "      <td>alga atkin alga known seawe speci british meth...</td>\n",
       "    </tr>\n",
       "    <tr>\n",
       "      <th>8</th>\n",
       "      <td>Like an expert moviegoer who can instantly rec...</td>\n",
       "      <td>Some Deep-Sea Bacteria Are So Strange, Our Imm...</td>\n",
       "      <td>biology</td>\n",
       "      <td>immun bacteria lp s deep-sea microb new recept...</td>\n",
       "    </tr>\n",
       "    <tr>\n",
       "      <th>9</th>\n",
       "      <td>In 1986, Yiu-Kwok Chan from Agriculture Canada...</td>\n",
       "      <td>Guardians of the Microbial Galaxy</td>\n",
       "      <td>biology</td>\n",
       "      <td>microbi cultur collect collect world bacteri s...</td>\n",
       "    </tr>\n",
       "  </tbody>\n",
       "</table>\n",
       "</div>"
      ],
      "text/plain": [
       "                                                text  \\\n",
       "0  This spring’s emergence of periodical cicadas ...   \n",
       "1  In the 1980s, scientists discovered that oyste...   \n",
       "2  In September 2017, when Hurricane Maria hit Pu...   \n",
       "3  A few plants in the cabbage and mustard family...   \n",
       "4  The following essay is reprinted with permissi...   \n",
       "5  Dinosaur and fossil aficionados are intimately...   \n",
       "6  The human body replaces its own cells regularl...   \n",
       "7  Born in England in 1799, Anna Atkins was an am...   \n",
       "8  Like an expert moviegoer who can instantly rec...   \n",
       "9  In 1986, Yiu-Kwok Chan from Agriculture Canada...   \n",
       "\n",
       "                                               title    class  \\\n",
       "0       Brood X Cicadas Could Cause a Bird Baby Boom  biology   \n",
       "1        How a Carnivorous Mushroom Poisons Its Prey  biology   \n",
       "2  What Monkeys Can Teach Humans about Resilience...  biology   \n",
       "3  Killer Leaves Emerge from Plant-Butterfly Arms...  biology   \n",
       "4  Chocolate’s Secret Ingredient Is Fermenting Mi...  biology   \n",
       "5  The Asteroid That Killed the Dinosaurs Created...  biology   \n",
       "6     Our Bodies Replace Billions of Cells Every Day  biology   \n",
       "7  Female Botanist Published the First Ever Photo...  biology   \n",
       "8  Some Deep-Sea Bacteria Are So Strange, Our Imm...  biology   \n",
       "9                  Guardians of the Microbial Galaxy  biology   \n",
       "\n",
       "                                             cleaned  \n",
       "0  cicada cicada speci popul say year year s bird...  \n",
       "1  s nematod nematod poison worm calcium fungi sc...  \n",
       "2  social s say macaqu platt santiago island monk...  \n",
       "3  plant egg speci butterfli famili plant say but...  \n",
       "4  chocol ferment bean cacao s bacteria flavor pr...  \n",
       "5  s forest meteorit new speci say year amazon fo...  \n",
       "6  cell bodi day equival human live mass percent ...  \n",
       "7  alga atkin alga known seawe speci british meth...  \n",
       "8  immun bacteria lp s deep-sea microb new recept...  \n",
       "9  microbi cultur collect collect world bacteri s...  "
      ]
     },
     "metadata": {},
     "execution_count": 8
    }
   ],
   "metadata": {}
  },
  {
   "cell_type": "code",
   "execution_count": 9,
   "source": [
    "corpus = articles[\"cleaned\"]\n",
    "\n",
    "# Сформируем список юниграмм\n",
    "lst_corpus = []\n",
    "for string in corpus:\n",
    "   lst_words = string.split()\n",
    "   lst_grams = [\" \".join(lst_words[i:i+1]) \n",
    "               for i in range(0, len(lst_words), 1)]\n",
    "   lst_corpus.append(lst_grams)"
   ],
   "outputs": [],
   "metadata": {}
  },
  {
   "cell_type": "code",
   "execution_count": 10,
   "source": [
    "nlp = gensim.models.word2vec.Word2Vec(lst_corpus, vector_size=50,   \n",
    "            window=8, min_count=1, sg=1, epochs=10)"
   ],
   "outputs": [],
   "metadata": {}
  },
  {
   "cell_type": "code",
   "execution_count": 11,
   "source": [
    "def text_to_vec(text):\n",
    "    words = text.split(\" \")\n",
    "    vec = [nlp.wv.get_vector(word) for word in words if word in list(nlp.wv.index_to_key)]\n",
    "    return np.asarray(vec).reshape(-1)"
   ],
   "outputs": [],
   "metadata": {}
  },
  {
   "cell_type": "code",
   "execution_count": 12,
   "source": [
    "articles[\"vec\"] = articles.cleaned.apply(lambda text: text_to_vec(text))\n",
    "articles"
   ],
   "outputs": [
    {
     "output_type": "execute_result",
     "data": {
      "text/html": [
       "<div>\n",
       "<style scoped>\n",
       "    .dataframe tbody tr th:only-of-type {\n",
       "        vertical-align: middle;\n",
       "    }\n",
       "\n",
       "    .dataframe tbody tr th {\n",
       "        vertical-align: top;\n",
       "    }\n",
       "\n",
       "    .dataframe thead th {\n",
       "        text-align: right;\n",
       "    }\n",
       "</style>\n",
       "<table border=\"1\" class=\"dataframe\">\n",
       "  <thead>\n",
       "    <tr style=\"text-align: right;\">\n",
       "      <th></th>\n",
       "      <th>text</th>\n",
       "      <th>title</th>\n",
       "      <th>class</th>\n",
       "      <th>cleaned</th>\n",
       "      <th>vec</th>\n",
       "    </tr>\n",
       "  </thead>\n",
       "  <tbody>\n",
       "    <tr>\n",
       "      <th>0</th>\n",
       "      <td>This spring’s emergence of periodical cicadas ...</td>\n",
       "      <td>Brood X Cicadas Could Cause a Bird Baby Boom</td>\n",
       "      <td>biology</td>\n",
       "      <td>cicada cicada speci popul say year year s bird...</td>\n",
       "      <td>[-0.0955158, 0.0058344263, 0.05824702, -0.2898...</td>\n",
       "    </tr>\n",
       "    <tr>\n",
       "      <th>1</th>\n",
       "      <td>In the 1980s, scientists discovered that oyste...</td>\n",
       "      <td>How a Carnivorous Mushroom Poisons Its Prey</td>\n",
       "      <td>biology</td>\n",
       "      <td>s nematod nematod poison worm calcium fungi sc...</td>\n",
       "      <td>[-0.37851056, -1.6177194, 0.13485555, 0.657888...</td>\n",
       "    </tr>\n",
       "    <tr>\n",
       "      <th>2</th>\n",
       "      <td>In September 2017, when Hurricane Maria hit Pu...</td>\n",
       "      <td>What Monkeys Can Teach Humans about Resilience...</td>\n",
       "      <td>biology</td>\n",
       "      <td>social s say macaqu platt santiago island monk...</td>\n",
       "      <td>[-0.565434, -0.37565184, -0.32699335, -0.69469...</td>\n",
       "    </tr>\n",
       "    <tr>\n",
       "      <th>3</th>\n",
       "      <td>A few plants in the cabbage and mustard family...</td>\n",
       "      <td>Killer Leaves Emerge from Plant-Butterfly Arms...</td>\n",
       "      <td>biology</td>\n",
       "      <td>plant egg speci butterfli famili plant say but...</td>\n",
       "      <td>[-0.20477858, -0.62704396, 0.050016906, -0.480...</td>\n",
       "    </tr>\n",
       "    <tr>\n",
       "      <th>4</th>\n",
       "      <td>The following essay is reprinted with permissi...</td>\n",
       "      <td>Chocolate’s Secret Ingredient Is Fermenting Mi...</td>\n",
       "      <td>biology</td>\n",
       "      <td>chocol ferment bean cacao s bacteria flavor pr...</td>\n",
       "      <td>[-0.24356803, 0.27490088, 0.062146444, 0.02979...</td>\n",
       "    </tr>\n",
       "    <tr>\n",
       "      <th>...</th>\n",
       "      <td>...</td>\n",
       "      <td>...</td>\n",
       "      <td>...</td>\n",
       "      <td>...</td>\n",
       "      <td>...</td>\n",
       "    </tr>\n",
       "    <tr>\n",
       "      <th>97</th>\n",
       "      <td>Note: This post first appeared on November 21,...</td>\n",
       "      <td>Thanksgiving and the Myth of Native American \"...</td>\n",
       "      <td>policy_ethics</td>\n",
       "      <td>war nativ american s new peopl savag wampanoag...</td>\n",
       "      <td>[-0.35744938, 0.6649792, 0.29443887, 0.0525428...</td>\n",
       "    </tr>\n",
       "    <tr>\n",
       "      <th>98</th>\n",
       "      <td>Since World War II, most countries around the ...</td>\n",
       "      <td>GDP Is the Wrong Tool for Measuring What Matters</td>\n",
       "      <td>policy_ethics</td>\n",
       "      <td>gdp s econom economi u health financi inequ we...</td>\n",
       "      <td>[-0.0036418557, 0.030747574, 0.045131303, -0.0...</td>\n",
       "    </tr>\n",
       "    <tr>\n",
       "      <th>99</th>\n",
       "      <td>Former Secretary of State John Kerry would bec...</td>\n",
       "      <td>Biden Names John Kerry Climate Envoy</td>\n",
       "      <td>policy_ethics</td>\n",
       "      <td>climat s kerri said biden chang domest presid ...</td>\n",
       "      <td>[-0.74234414, 0.15228532, 0.496099, -0.2887067...</td>\n",
       "    </tr>\n",
       "    <tr>\n",
       "      <th>100</th>\n",
       "      <td>Personally, I practiced social distancing long...</td>\n",
       "      <td>The Scientific Benefits of Social Distancing</td>\n",
       "      <td>policy_ethics</td>\n",
       "      <td>research social phosphin public distanc life r...</td>\n",
       "      <td>[0.16648796, -0.5830344, 0.84495705, 0.0719088...</td>\n",
       "    </tr>\n",
       "    <tr>\n",
       "      <th>101</th>\n",
       "      <td>2020 has been a historic year— and mostly not ...</td>\n",
       "      <td>To Understand How Science Denial Works, Look t...</td>\n",
       "      <td>policy_ethics</td>\n",
       "      <td>scientif scienc tobacco social climat facebook...</td>\n",
       "      <td>[-0.65878505, -0.24397731, -0.052364204, 0.155...</td>\n",
       "    </tr>\n",
       "  </tbody>\n",
       "</table>\n",
       "<p>700 rows × 5 columns</p>\n",
       "</div>"
      ],
      "text/plain": [
       "                                                  text  \\\n",
       "0    This spring’s emergence of periodical cicadas ...   \n",
       "1    In the 1980s, scientists discovered that oyste...   \n",
       "2    In September 2017, when Hurricane Maria hit Pu...   \n",
       "3    A few plants in the cabbage and mustard family...   \n",
       "4    The following essay is reprinted with permissi...   \n",
       "..                                                 ...   \n",
       "97   Note: This post first appeared on November 21,...   \n",
       "98   Since World War II, most countries around the ...   \n",
       "99   Former Secretary of State John Kerry would bec...   \n",
       "100  Personally, I practiced social distancing long...   \n",
       "101  2020 has been a historic year— and mostly not ...   \n",
       "\n",
       "                                                 title          class  \\\n",
       "0         Brood X Cicadas Could Cause a Bird Baby Boom        biology   \n",
       "1          How a Carnivorous Mushroom Poisons Its Prey        biology   \n",
       "2    What Monkeys Can Teach Humans about Resilience...        biology   \n",
       "3    Killer Leaves Emerge from Plant-Butterfly Arms...        biology   \n",
       "4    Chocolate’s Secret Ingredient Is Fermenting Mi...        biology   \n",
       "..                                                 ...            ...   \n",
       "97   Thanksgiving and the Myth of Native American \"...  policy_ethics   \n",
       "98    GDP Is the Wrong Tool for Measuring What Matters  policy_ethics   \n",
       "99                Biden Names John Kerry Climate Envoy  policy_ethics   \n",
       "100       The Scientific Benefits of Social Distancing  policy_ethics   \n",
       "101  To Understand How Science Denial Works, Look t...  policy_ethics   \n",
       "\n",
       "                                               cleaned  \\\n",
       "0    cicada cicada speci popul say year year s bird...   \n",
       "1    s nematod nematod poison worm calcium fungi sc...   \n",
       "2    social s say macaqu platt santiago island monk...   \n",
       "3    plant egg speci butterfli famili plant say but...   \n",
       "4    chocol ferment bean cacao s bacteria flavor pr...   \n",
       "..                                                 ...   \n",
       "97   war nativ american s new peopl savag wampanoag...   \n",
       "98   gdp s econom economi u health financi inequ we...   \n",
       "99   climat s kerri said biden chang domest presid ...   \n",
       "100  research social phosphin public distanc life r...   \n",
       "101  scientif scienc tobacco social climat facebook...   \n",
       "\n",
       "                                                   vec  \n",
       "0    [-0.0955158, 0.0058344263, 0.05824702, -0.2898...  \n",
       "1    [-0.37851056, -1.6177194, 0.13485555, 0.657888...  \n",
       "2    [-0.565434, -0.37565184, -0.32699335, -0.69469...  \n",
       "3    [-0.20477858, -0.62704396, 0.050016906, -0.480...  \n",
       "4    [-0.24356803, 0.27490088, 0.062146444, 0.02979...  \n",
       "..                                                 ...  \n",
       "97   [-0.35744938, 0.6649792, 0.29443887, 0.0525428...  \n",
       "98   [-0.0036418557, 0.030747574, 0.045131303, -0.0...  \n",
       "99   [-0.74234414, 0.15228532, 0.496099, -0.2887067...  \n",
       "100  [0.16648796, -0.5830344, 0.84495705, 0.0719088...  \n",
       "101  [-0.65878505, -0.24397731, -0.052364204, 0.155...  \n",
       "\n",
       "[700 rows x 5 columns]"
      ]
     },
     "metadata": {},
     "execution_count": 12
    }
   ],
   "metadata": {}
  },
  {
   "cell_type": "code",
   "execution_count": 13,
   "source": [
    "max_words = max(articles.vec.apply(lambda vec: len(vec)))\n",
    "num_classes = 7"
   ],
   "outputs": [],
   "metadata": {}
  },
  {
   "cell_type": "code",
   "execution_count": 14,
   "source": [
    "pad_data = kprocessing.sequence.pad_sequences(\n",
    "    articles.vec, \n",
    "    maxlen=max(articles.vec.apply(lambda vec: len(vec))), \n",
    "    padding=\"post\", \n",
    "    truncating=\"post\",\n",
    "    dtype=\"float32\"\n",
    ")"
   ],
   "outputs": [],
   "metadata": {}
  },
  {
   "cell_type": "code",
   "execution_count": 15,
   "source": [
    "fit = umap.UMAP(\n",
    "    n_neighbors=500,\n",
    "    min_dist=0.01,\n",
    "    n_components=2,\n",
    "    metric=\"euclidean\",\n",
    "    random_state=42\n",
    ")\n",
    "    \n",
    "umap_result = fit.fit_transform(pad_data)"
   ],
   "outputs": [],
   "metadata": {}
  },
  {
   "cell_type": "code",
   "execution_count": 16,
   "source": [
    "keys = list(articles[\"class\"].value_counts().keys())\n",
    "themes_dict = {keys[i]:i for i in range(len(keys))}\n",
    "colors = [sns.color_palette(\"husl\", len(themes_dict))[x] for x in articles[\"class\"].map(themes_dict)]\n",
    "\n",
    "fig = plt.figure(figsize=(10, 10))\n",
    "plt.scatter(umap_result[:, 0], umap_result[:, 1], c=colors)\n",
    "\n",
    "patches = [mpatches.Patch(color=sns.color_palette(\"hls\", len(themes_dict))[i], label=keys[i]) for i in range(len(keys))]\n",
    "plt.legend(handles=patches, ncol=10, loc=\"lower center\")"
   ],
   "outputs": [
    {
     "output_type": "execute_result",
     "data": {
      "text/plain": [
       "<matplotlib.legend.Legend at 0x191b9f940>"
      ]
     },
     "metadata": {},
     "execution_count": 16
    },
    {
     "output_type": "display_data",
     "data": {
      "image/png": "[encoded data removed]",
      "text/plain": [
       "<Figure size 720x720 with 1 Axes>"
      ]
     },
     "metadata": {
      "needs_background": "light"
     }
    }
   ],
   "metadata": {}
  },
  {
   "cell_type": "code",
   "execution_count": 34,
   "source": [
    "x = articles[\"cleaned\"].copy()\n",
    "y = articles[\"class\"].copy()\n",
    "x_train, x_test, y_train, y_test = train_test_split(x, y, test_size=0.3)\n",
    "x_train"
   ],
   "outputs": [
    {
     "output_type": "execute_result",
     "data": {
      "text/plain": [
       "103    pheasant bird domest barton say wild bone chic...\n",
       "17     woman dream w wilczek blackwel dream medic new...\n",
       "62     carbon s fossil year radiocarbon research say ...\n",
       "16     complex analysi function real number theorem p...\n",
       "16     organ ocean s alga food impact photosynthesi s...\n",
       "                             ...                        \n",
       "67     theorem s episod favorit valu intermedi functi...\n",
       "46     episod favorit theorem s group geometr duchin ...\n",
       "54     s lift pressur wing air bernoulli airfoil expl...\n",
       "51     episod theorem favorit s mirror symmetri podca...\n",
       "26     conway s number kochen said t game professor d...\n",
       "Name: cleaned, Length: 490, dtype: object"
      ]
     },
     "metadata": {},
     "execution_count": 34
    }
   ],
   "metadata": {}
  },
  {
   "cell_type": "code",
   "execution_count": 35,
   "source": [
    "from keras.preprocessing import text, sequence\n",
    "# #здесь тот же Bag of Words\n",
    "# max_words = 1000\n",
    "tokenize = text.Tokenizer(num_words=max_words, char_level=False)"
   ],
   "outputs": [],
   "metadata": {}
  },
  {
   "cell_type": "code",
   "execution_count": 36,
   "source": [
    "tokenize.fit_on_texts(x_train) \n",
    "x_train = tokenize.texts_to_matrix(x_train, mode=\"tfidf\")\n",
    "x_test = tokenize.texts_to_matrix(x_test, mode=\"tfidf\")"
   ],
   "outputs": [],
   "metadata": {}
  },
  {
   "cell_type": "code",
   "execution_count": 37,
   "source": [
    "x_train"
   ],
   "outputs": [
    {
     "output_type": "execute_result",
     "data": {
      "text/plain": [
       "array([[0., 1., 0., ..., 0., 0., 0.],\n",
       "       [0., 1., 0., ..., 0., 0., 0.],\n",
       "       [0., 1., 1., ..., 0., 0., 0.],\n",
       "       ...,\n",
       "       [0., 1., 1., ..., 0., 0., 0.],\n",
       "       [0., 0., 1., ..., 0., 0., 0.],\n",
       "       [0., 1., 1., ..., 0., 0., 0.]])"
      ]
     },
     "metadata": {},
     "execution_count": 37
    }
   ],
   "metadata": {}
  },
  {
   "cell_type": "code",
   "execution_count": 38,
   "source": [
    "from sklearn.preprocessing import LabelBinarizer, LabelEncoder\n",
    "# https://scikit-learn.org/stable/modules/generated/sklearn.preprocessing.LabelEncoder.html\n",
    "encoder = LabelEncoder()\n",
    "encoder.fit(y_train)\n",
    "y_train = encoder.transform(y_train)\n",
    "y_test = encoder.transform(y_test)"
   ],
   "outputs": [],
   "metadata": {}
  },
  {
   "cell_type": "code",
   "execution_count": 39,
   "source": [
    "y_train"
   ],
   "outputs": [
    {
     "output_type": "execute_result",
     "data": {
      "text/plain": [
       "array([3, 0, 3, 4, 1, 2, 2, 4, 2, 3, 1, 2, 4, 4, 6, 3, 3, 5, 4, 2, 3, 0,\n",
       "       3, 0, 5, 6, 5, 2, 2, 6, 3, 1, 6, 1, 1, 2, 6, 6, 0, 6, 6, 6, 1, 5,\n",
       "       5, 4, 4, 0, 3, 0, 6, 4, 5, 0, 4, 6, 4, 6, 0, 4, 2, 3, 5, 2, 1, 5,\n",
       "       5, 0, 6, 6, 5, 6, 2, 6, 4, 6, 6, 1, 0, 4, 1, 0, 0, 1, 3, 4, 6, 5,\n",
       "       6, 0, 3, 0, 2, 0, 0, 1, 2, 0, 5, 2, 0, 4, 3, 5, 1, 0, 5, 6, 0, 2,\n",
       "       5, 4, 5, 3, 2, 2, 4, 5, 4, 2, 2, 0, 0, 2, 0, 0, 4, 3, 1, 5, 6, 2,\n",
       "       6, 5, 1, 3, 5, 0, 6, 4, 1, 5, 1, 3, 5, 3, 0, 3, 5, 3, 6, 0, 0, 1,\n",
       "       4, 1, 1, 4, 3, 6, 4, 0, 3, 2, 6, 0, 0, 1, 4, 5, 4, 0, 2, 2, 6, 0,\n",
       "       0, 2, 1, 0, 0, 4, 3, 4, 3, 3, 1, 3, 2, 6, 3, 2, 0, 3, 1, 1, 5, 1,\n",
       "       1, 1, 3, 2, 6, 3, 6, 1, 0, 4, 6, 3, 6, 5, 3, 3, 2, 3, 2, 5, 4, 0,\n",
       "       1, 6, 4, 1, 1, 4, 6, 2, 1, 6, 0, 2, 1, 2, 3, 5, 3, 5, 2, 1, 3, 3,\n",
       "       5, 1, 0, 6, 2, 0, 5, 0, 2, 6, 3, 3, 2, 4, 2, 0, 5, 4, 3, 2, 0, 0,\n",
       "       1, 2, 0, 2, 0, 6, 0, 3, 4, 1, 1, 1, 6, 0, 1, 2, 5, 2, 2, 3, 4, 6,\n",
       "       3, 6, 5, 6, 1, 4, 4, 5, 2, 5, 3, 1, 5, 2, 5, 4, 4, 5, 5, 2, 2, 5,\n",
       "       2, 1, 0, 6, 1, 5, 2, 1, 0, 4, 3, 2, 1, 5, 3, 3, 0, 3, 5, 5, 1, 4,\n",
       "       4, 4, 5, 3, 6, 1, 1, 1, 5, 5, 2, 3, 3, 6, 3, 3, 4, 5, 6, 4, 3, 3,\n",
       "       0, 0, 0, 1, 3, 0, 1, 0, 3, 1, 4, 6, 4, 1, 4, 6, 1, 2, 1, 2, 4, 2,\n",
       "       0, 3, 1, 4, 1, 0, 2, 6, 0, 2, 2, 4, 4, 3, 3, 2, 4, 5, 4, 4, 3, 2,\n",
       "       3, 4, 1, 5, 0, 0, 0, 3, 5, 6, 0, 6, 6, 0, 1, 0, 5, 4, 3, 2, 5, 0,\n",
       "       1, 6, 2, 4, 5, 6, 3, 5, 1, 1, 1, 4, 6, 6, 6, 1, 2, 5, 0, 5, 0, 5,\n",
       "       1, 6, 2, 1, 4, 5, 4, 1, 1, 1, 6, 2, 1, 6, 5, 1, 3, 1, 6, 5, 3, 0,\n",
       "       6, 0, 1, 0, 1, 0, 4, 3, 0, 5, 5, 6, 6, 6, 6, 3, 4, 3, 2, 5, 6, 5,\n",
       "       3, 4, 4, 5, 4, 4])"
      ]
     },
     "metadata": {},
     "execution_count": 39
    }
   ],
   "metadata": {}
  },
  {
   "cell_type": "code",
   "execution_count": 40,
   "source": [
    "from keras.utils import np_utils\n",
    "# https://www.tensorflow.org/api_docs/python/tf/keras/utils/to_categorical\n",
    "y_train = np_utils.to_categorical(y_train, num_classes)\n",
    "y_test = np_utils.to_categorical(y_test, num_classes)\n",
    "y_train"
   ],
   "outputs": [
    {
     "output_type": "execute_result",
     "data": {
      "text/plain": [
       "array([[0., 0., 0., ..., 0., 0., 0.],\n",
       "       [1., 0., 0., ..., 0., 0., 0.],\n",
       "       [0., 0., 0., ..., 0., 0., 0.],\n",
       "       ...,\n",
       "       [0., 0., 0., ..., 0., 1., 0.],\n",
       "       [0., 0., 0., ..., 1., 0., 0.],\n",
       "       [0., 0., 0., ..., 1., 0., 0.]], dtype=float32)"
      ]
     },
     "metadata": {},
     "execution_count": 40
    }
   ],
   "metadata": {}
  },
  {
   "cell_type": "code",
   "execution_count": 41,
   "source": [
    "batch_size = 32\n",
    "epochs = 20\n",
    "\n",
    "model = Sequential()\n",
    "model.add(Dense(512, input_shape=(max_words,)))\n",
    "model.add(Activation('relu'))\n",
    "model.add(Dense(num_classes))\n",
    "model.add(Activation('softmax'))\n",
    "\n",
    "model.compile(loss='categorical_crossentropy', optimizer='adam', metrics=['accuracy'])\n",
    "\n",
    "model.summary()"
   ],
   "outputs": [
    {
     "output_type": "stream",
     "name": "stdout",
     "text": [
      "Model: \"sequential_2\"\n",
      "_________________________________________________________________\n",
      "Layer (type)                 Output Shape              Param #   \n",
      "=================================================================\n",
      "dense_4 (Dense)              (None, 512)               36506112  \n",
      "_________________________________________________________________\n",
      "activation_4 (Activation)    (None, 512)               0         \n",
      "_________________________________________________________________\n",
      "dense_5 (Dense)              (None, 7)                 3591      \n",
      "_________________________________________________________________\n",
      "activation_5 (Activation)    (None, 7)                 0         \n",
      "=================================================================\n",
      "Total params: 36,509,703\n",
      "Trainable params: 36,509,703\n",
      "Non-trainable params: 0\n",
      "_________________________________________________________________\n"
     ]
    }
   ],
   "metadata": {}
  },
  {
   "cell_type": "code",
   "execution_count": 42,
   "source": [
    "history = model.fit(x_train, y_train,\n",
    "                    batch_size=batch_size,\n",
    "                    epochs=epochs, validation_split=0.1)"
   ],
   "outputs": [
    {
     "output_type": "stream",
     "name": "stdout",
     "text": [
      "Epoch 1/20\n",
      "14/14 [==============================] - 2s 116ms/step - loss: 1.4453 - accuracy: 0.5351 - val_loss: 1.2150 - val_accuracy: 0.5714\n",
      "Epoch 2/20\n",
      "14/14 [==============================] - 1s 106ms/step - loss: 0.2057 - accuracy: 0.9660 - val_loss: 1.3698 - val_accuracy: 0.6735\n",
      "Epoch 3/20\n",
      "14/14 [==============================] - 2s 111ms/step - loss: 0.1762 - accuracy: 0.9637 - val_loss: 1.7541 - val_accuracy: 0.4694\n",
      "Epoch 4/20\n",
      "14/14 [==============================] - 2s 108ms/step - loss: 0.1896 - accuracy: 0.9569 - val_loss: 1.4958 - val_accuracy: 0.6122\n",
      "Epoch 5/20\n",
      "14/14 [==============================] - 2s 116ms/step - loss: 0.1783 - accuracy: 0.9660 - val_loss: 1.5408 - val_accuracy: 0.5714\n",
      "Epoch 6/20\n",
      "14/14 [==============================] - 2s 112ms/step - loss: 0.0827 - accuracy: 0.9660 - val_loss: 1.6843 - val_accuracy: 0.6122\n",
      "Epoch 7/20\n",
      "14/14 [==============================] - 2s 109ms/step - loss: 0.1656 - accuracy: 0.9660 - val_loss: 1.6402 - val_accuracy: 0.6122\n",
      "Epoch 8/20\n",
      "14/14 [==============================] - 2s 109ms/step - loss: 0.1767 - accuracy: 0.9637 - val_loss: 1.7298 - val_accuracy: 0.4898\n",
      "Epoch 9/20\n",
      "14/14 [==============================] - 1s 107ms/step - loss: 0.0865 - accuracy: 0.9615 - val_loss: 1.5923 - val_accuracy: 0.5510\n",
      "Epoch 10/20\n",
      "14/14 [==============================] - 2s 109ms/step - loss: 0.0930 - accuracy: 0.9637 - val_loss: 1.5991 - val_accuracy: 0.5918\n",
      "Epoch 11/20\n",
      "14/14 [==============================] - 1s 107ms/step - loss: 0.0755 - accuracy: 0.9637 - val_loss: 1.7125 - val_accuracy: 0.5102\n",
      "Epoch 12/20\n",
      "14/14 [==============================] - 1s 106ms/step - loss: 0.0931 - accuracy: 0.9637 - val_loss: 1.7017 - val_accuracy: 0.5510\n",
      "Epoch 13/20\n",
      "14/14 [==============================] - 1s 106ms/step - loss: 0.0979 - accuracy: 0.9705 - val_loss: 1.6361 - val_accuracy: 0.5918\n",
      "Epoch 14/20\n",
      "14/14 [==============================] - 1s 106ms/step - loss: 0.1287 - accuracy: 0.9660 - val_loss: 1.7543 - val_accuracy: 0.5102\n",
      "Epoch 15/20\n",
      "14/14 [==============================] - 2s 113ms/step - loss: 0.1200 - accuracy: 0.9683 - val_loss: 1.8175 - val_accuracy: 0.5306\n",
      "Epoch 16/20\n",
      "14/14 [==============================] - 2s 113ms/step - loss: 0.0801 - accuracy: 0.9660 - val_loss: 1.6883 - val_accuracy: 0.5510\n",
      "Epoch 17/20\n",
      "14/14 [==============================] - 1s 104ms/step - loss: 0.0777 - accuracy: 0.9705 - val_loss: 1.6930 - val_accuracy: 0.5918\n",
      "Epoch 18/20\n",
      "14/14 [==============================] - 1s 105ms/step - loss: 0.0826 - accuracy: 0.9592 - val_loss: 1.6750 - val_accuracy: 0.5918\n",
      "Epoch 19/20\n",
      "14/14 [==============================] - 1s 105ms/step - loss: 0.0695 - accuracy: 0.9615 - val_loss: 1.7056 - val_accuracy: 0.5918\n",
      "Epoch 20/20\n",
      "14/14 [==============================] - 1s 106ms/step - loss: 0.0713 - accuracy: 0.9637 - val_loss: 1.7634 - val_accuracy: 0.5714\n"
     ]
    }
   ],
   "metadata": {}
  },
  {
   "cell_type": "code",
   "execution_count": 43,
   "source": [
    "score = model.evaluate(x_test, y_test)\n",
    "print('Test accuracy:', score[1])"
   ],
   "outputs": [
    {
     "output_type": "stream",
     "name": "stdout",
     "text": [
      "7/7 [==============================] - 0s 15ms/step - loss: 1.2673 - accuracy: 0.7143\n",
      "Test accuracy: 0.7142857313156128\n"
     ]
    }
   ],
   "metadata": {}
  },
  {
   "cell_type": "code",
   "execution_count": null,
   "source": [],
   "outputs": [],
   "metadata": {}
  }
 ],
 "metadata": {
  "kernelspec": {
   "name": "python3",
   "display_name": "Python 3.9.6 64-bit"
  },
  "language_info": {
   "codemirror_mode": {
    "name": "ipython",
    "version": 3
   },
   "file_extension": ".py",
   "mimetype": "text/x-python",
   "name": "python",
   "nbconvert_exporter": "python",
   "pygments_lexer": "ipython3",
   "version": "3.9.6"
  },
  "interpreter": {
   "hash": "aee8b7b246df8f9039afb4144a1f6fd8d2ca17a180786b69acc140d282b71a49"
  }
 },
 "nbformat": 4,
 "nbformat_minor": 4
}